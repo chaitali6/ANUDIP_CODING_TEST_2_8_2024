{
 "cells": [
  {
   "cell_type": "code",
   "execution_count": null,
   "metadata": {},
   "outputs": [],
   "source": [
    "\n",
    "import pandas as pd\n",
    "\n",
    "# Path to your CSV file\n",
    "csv_file_path = \"C:\\Users\\Chaitali\\Anaconda3\\envs\\Data Analaytics\\Coding Test\\Chaitali_Excel_Text.xlsx\"\n",
    "\n",
    "# Read the CSV file into a DataFrame\n",
    "data = pd.read_csv(\"C:\\Users\\Chaitali\\Anaconda3\\envs\\Data Analaytics\\Coding Test\\Chaitali_Excel_Text.xlsx\")\n",
    "\n",
    "# Display the contents of the DataFrame\n",
    "print(data)\n"
   ]
  }
 ],
 "metadata": {
  "language_info": {
   "name": "python"
  }
 },
 "nbformat": 4,
 "nbformat_minor": 2
}
